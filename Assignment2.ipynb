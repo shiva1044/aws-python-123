{
 "cells": [
  {
   "cell_type": "code",
   "execution_count": 2,
   "id": "25433f5e",
   "metadata": {},
   "outputs": [],
   "source": [
    "#Refer capitalize function in shared program files, replicate .upper() and .lower() functions"
   ]
  },
  {
   "cell_type": "code",
   "execution_count": 3,
   "id": "a6061802",
   "metadata": {},
   "outputs": [
    {
     "name": "stdout",
     "output_type": "stream",
     "text": [
      "Capitalize function: Hello world !\n",
      "Replicated .upper() function: HELLO WORLD !\n",
      "Replicated .lower() function: hello world !\n"
     ]
    }
   ],
   "source": [
    "string = \"Hello World !\"\n",
    "capitalize_function = string.capitalize()\n",
    "upper_function = string.upper()\n",
    "lower_function = string.lower()\n",
    "print(\"Capitalize function:\", capitalize_function)\n",
    "print(\"Replicated .upper() function:\", upper_function)\n",
    "print(\"Replicated .lower() function:\", lower_function)"
   ]
  },
  {
   "cell_type": "code",
   "execution_count": 4,
   "id": "6f73eafe",
   "metadata": {},
   "outputs": [],
   "source": [
    "#Create a odd sequence from given sequence [1,2,34,65,1,2,65,66,44,33,22,87,123412,09,78,76]\n"
   ]
  },
  {
   "cell_type": "code",
   "execution_count": 5,
   "id": "53834b92",
   "metadata": {},
   "outputs": [
    {
     "name": "stdout",
     "output_type": "stream",
     "text": [
      "Odd sequence: [1, 65, 1, 65, 33, 87, 9]\n"
     ]
    }
   ],
   "source": [
    "given_sequence = [1,2,34,65,1,2,65,66,44,33,22,87,123412,9,78,76]\n",
    "odd_sequence = [num for num in given_sequence if num % 2 != 0]\n",
    "print(\"Odd sequence:\", odd_sequence)"
   ]
  },
  {
   "cell_type": "code",
   "execution_count": 7,
   "id": "435810e1",
   "metadata": {},
   "outputs": [],
   "source": [
    "#{‘apple’: 10, ‘mango’: 20, ‘pineapple’: 25, ‘orange’: 30, ‘strawberry’: 50, ‘jackfruit’: 10}\n",
    "#Generate a comprehension fruits which has more than 20 \n"
   ]
  },
  {
   "cell_type": "code",
   "execution_count": 9,
   "id": "970f25ae",
   "metadata": {},
   "outputs": [
    {
     "name": "stdout",
     "output_type": "stream",
     "text": [
      "Fruits with values more than 20: {'pineapple': 25, 'orange': 30, 'strawberry': 50}\n"
     ]
    }
   ],
   "source": [
    "fruits = {'apple': 10, 'mango': 20, 'pineapple': 25, 'orange': 30, 'strawberry': 50, 'jackfruit': 10}\n",
    "\n",
    "fruits_more_than_20 = {key: value for key, value in fruits.items() if value > 20}\n",
    "print(\"Fruits with values more than 20:\", fruits_more_than_20)"
   ]
  },
  {
   "cell_type": "code",
   "execution_count": null,
   "id": "a139b541",
   "metadata": {},
   "outputs": [],
   "source": []
  },
  {
   "cell_type": "code",
   "execution_count": null,
   "id": "af140d3e",
   "metadata": {},
   "outputs": [],
   "source": []
  }
 ],
 "metadata": {
  "kernelspec": {
   "display_name": "Python 3 (ipykernel)",
   "language": "python",
   "name": "python3"
  },
  "language_info": {
   "codemirror_mode": {
    "name": "ipython",
    "version": 3
   },
   "file_extension": ".py",
   "mimetype": "text/x-python",
   "name": "python",
   "nbconvert_exporter": "python",
   "pygments_lexer": "ipython3",
   "version": "3.11.0"
  }
 },
 "nbformat": 4,
 "nbformat_minor": 5
}
