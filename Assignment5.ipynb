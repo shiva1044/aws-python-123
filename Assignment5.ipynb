{
 "cells": [
  {
   "cell_type": "code",
   "execution_count": 1,
   "id": "491fb45b",
   "metadata": {},
   "outputs": [],
   "source": [
    "#Write Examples code for concatenation"
   ]
  },
  {
   "cell_type": "code",
   "execution_count": 12,
   "id": "5bd3b48f",
   "metadata": {},
   "outputs": [
    {
     "name": "stdout",
     "output_type": "stream",
     "text": [
      "Concatenated string: Hello World\n"
     ]
    }
   ],
   "source": [
    "\n",
    "\n",
    "str1 = \"Hello\"\n",
    "str2 = \"World\"\n",
    "concatenated_string = str1 + \" \" + str2\n",
    "print(\"Concatenated string:\", concatenated_string)"
   ]
  },
  {
   "cell_type": "code",
   "execution_count": 13,
   "id": "ad12114f",
   "metadata": {},
   "outputs": [
    {
     "name": "stdout",
     "output_type": "stream",
     "text": [
      "Formatted string (using % operator): Name: Acez, Age: 20\n"
     ]
    }
   ],
   "source": [
    "# Using the % operator\n",
    "name = \"Acez\"\n",
    "age = 20\n",
    "formatted_string = \"Name: %s, Age: %d\" % (name, age)\n",
    "print(\"Formatted string (using % operator):\", formatted_string)"
   ]
  },
  {
   "cell_type": "code",
   "execution_count": 14,
   "id": "345ce79a",
   "metadata": {},
   "outputs": [
    {
     "name": "stdout",
     "output_type": "stream",
     "text": [
      "Formatted string (using format() method): Name: Acez, Age: 20\n"
     ]
    }
   ],
   "source": [
    "# Using the format() method\n",
    "formatted_string = \"Name: {}, Age: {}\".format(name, age)\n",
    "print(\"Formatted string (using format() method):\", formatted_string)"
   ]
  },
  {
   "cell_type": "code",
   "execution_count": 15,
   "id": "1e418244",
   "metadata": {},
   "outputs": [
    {
     "name": "stdout",
     "output_type": "stream",
     "text": [
      "Formatted string (using f-strings): Name: Acez, Age: 20\n"
     ]
    }
   ],
   "source": [
    "# Using f-strings (formatted string literals)\n",
    "formatted_string = f\"Name: {name}, Age: {age}\"\n",
    "print(\"Formatted string (using f-strings):\", formatted_string)"
   ]
  },
  {
   "cell_type": "code",
   "execution_count": 16,
   "id": "5a7f04ef",
   "metadata": {},
   "outputs": [
    {
     "name": "stdout",
     "output_type": "stream",
     "text": [
      "Formatted string (using template strings): Name:Acez, Age: 20\n"
     ]
    }
   ],
   "source": [
    "# Using template strings\n",
    "from string import Template\n",
    "template = Template(\"Name:Acez, Age: 20\")\n",
    "formatted_string = template.substitute(name=name, age=age)\n",
    "print(\"Formatted string (using template strings):\", formatted_string)\n",
    "     "
   ]
  },
  {
   "cell_type": "code",
   "execution_count": 17,
   "id": "8e6c5457",
   "metadata": {},
   "outputs": [],
   "source": [
    "#Write example for each arithmetic operators"
   ]
  },
  {
   "cell_type": "code",
   "execution_count": 18,
   "id": "8ace7018",
   "metadata": {},
   "outputs": [
    {
     "name": "stdout",
     "output_type": "stream",
     "text": [
      "Addition result: 8\n",
      "Subtraction result: 5\n",
      "Multiplication result: 24\n",
      "Division result: 5.0\n",
      "Exponentiation result: 8\n",
      "Modulus result: 3\n",
      "After subtraction assignment: 7\n",
      "After multiplication assignment: 10\n",
      "After division assignment: 5.0\n"
     ]
    }
   ],
   "source": [
    "# Addition\n",
    "result_add = 5 + 3\n",
    "print(\"Addition result:\", result_add)\n",
    "\n",
    "# Subtraction\n",
    "result_sub = 7 - 2\n",
    "print(\"Subtraction result:\", result_sub)\n",
    "\n",
    "# Multiplication\n",
    "result_mul = 4 * 6\n",
    "print(\"Multiplication result:\", result_mul)\n",
    "\n",
    "# Division\n",
    "result_div = 10 / 2\n",
    "print(\"Division result:\", result_div)\n",
    "\n",
    "# Exponentiation\n",
    "result_exp = 2 ** 3\n",
    "print(\"Exponentiation result:\", result_exp)\n",
    "\n",
    "# Modulus\n",
    "result_mod = 15 % 4\n",
    "print(\"Modulus result:\", result_mod)\n",
    "# Example for -= (Subtraction assignment)\n",
    "x = 10\n",
    "x -= 3  # Equivalent to x = x - 3\n",
    "print(\"After subtraction assignment:\", x)\n",
    "\n",
    "# Example for *= (Multiplication assignment)\n",
    "y = 5\n",
    "y *= 2  # Equivalent to y = y * 2\n",
    "print(\"After multiplication assignment:\", y)\n",
    "\n",
    "# Example for /= (Division assignment)\n",
    "z = 20\n",
    "z /= 4  # Equivalent to z = z / 4\n",
    "print(\"After division assignment:\", z)"
   ]
  },
  {
   "cell_type": "code",
   "execution_count": null,
   "id": "4a2cfad5",
   "metadata": {},
   "outputs": [],
   "source": []
  }
 ],
 "metadata": {
  "kernelspec": {
   "display_name": "Python 3 (ipykernel)",
   "language": "python",
   "name": "python3"
  },
  "language_info": {
   "codemirror_mode": {
    "name": "ipython",
    "version": 3
   },
   "file_extension": ".py",
   "mimetype": "text/x-python",
   "name": "python",
   "nbconvert_exporter": "python",
   "pygments_lexer": "ipython3",
   "version": "3.11.0"
  }
 },
 "nbformat": 4,
 "nbformat_minor": 5
}
