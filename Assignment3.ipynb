{
 "cells": [
  {
   "cell_type": "code",
   "execution_count": 1,
   "id": "6f9d095d",
   "metadata": {},
   "outputs": [],
   "source": [
    "#Write Examples code for concatenation"
   ]
  },
  {
   "cell_type": "code",
   "execution_count": 3,
   "id": "fa8e3b69",
   "metadata": {},
   "outputs": [
    {
     "name": "stdout",
     "output_type": "stream",
     "text": [
      "Concatenated string: Hello World !\n"
     ]
    }
   ],
   "source": [
    "\n",
    "str1 = \"Hello\"\n",
    "str2 = \"World !\"\n",
    "concatenated_string = str1 + \" \" + str2\n",
    "print(\"Concatenated string:\", concatenated_string)"
   ]
  },
  {
   "cell_type": "code",
   "execution_count": 4,
   "id": "a1ef0c8f",
   "metadata": {},
   "outputs": [],
   "source": [
    "#Write one Examples for each formatting techniques\n"
   ]
  },
  {
   "cell_type": "code",
   "execution_count": 5,
   "id": "695e63e7",
   "metadata": {},
   "outputs": [
    {
     "name": "stdout",
     "output_type": "stream",
     "text": [
      "Formatted string: Name: Acez, Age: 20\n"
     ]
    }
   ],
   "source": [
    "name = \"Acez\"\n",
    "age = 20\n",
    "formatted_string = \"Name: %s, Age: %d\" % (name, age)\n",
    "print(\"Formatted string:\", formatted_string)"
   ]
  },
  {
   "cell_type": "code",
   "execution_count": 6,
   "id": "66ef2526",
   "metadata": {},
   "outputs": [],
   "source": [
    "#Go Through Reference site and apply various options into formatting techniques"
   ]
  },
  {
   "cell_type": "code",
   "execution_count": 8,
   "id": "50d8586a",
   "metadata": {},
   "outputs": [
    {
     "name": "stdout",
     "output_type": "stream",
     "text": [
      "Formatted string: Name: Acez, Age: 20\n"
     ]
    }
   ],
   "source": [
    "from string import Template\n",
    "template = Template(\"Name: Acez, Age: 20\")\n",
    "formatted_string = template.substitute(name=name, age=age)\n",
    "print(\"Formatted string:\", formatted_string)"
   ]
  },
  {
   "cell_type": "code",
   "execution_count": 9,
   "id": "1d9cca99",
   "metadata": {},
   "outputs": [
    {
     "name": "stdout",
     "output_type": "stream",
     "text": [
      "Formatted string: Name: Acez, Age: 20\n"
     ]
    }
   ],
   "source": [
    "formatted_string = \"Name: {}, Age: {}\".format(name, age)\n",
    "print(\"Formatted string:\", formatted_string)"
   ]
  },
  {
   "cell_type": "code",
   "execution_count": 10,
   "id": "00bfdb03",
   "metadata": {},
   "outputs": [],
   "source": [
    "#Write example for each arithmetic operators"
   ]
  },
  {
   "cell_type": "code",
   "execution_count": 11,
   "id": "02ae9600",
   "metadata": {},
   "outputs": [
    {
     "name": "stdout",
     "output_type": "stream",
     "text": [
      "Addition result: 10\n"
     ]
    }
   ],
   "source": [
    "Addition = 3 + 7\n",
    "print(\"Addition result:\", Addition)"
   ]
  },
  {
   "cell_type": "code",
   "execution_count": 12,
   "id": "69bd91fd",
   "metadata": {},
   "outputs": [
    {
     "name": "stdout",
     "output_type": "stream",
     "text": [
      "Substraction result 7\n"
     ]
    }
   ],
   "source": [
    "Substraction = 10 - 3\n",
    "print(\"Substraction result\", Substraction)"
   ]
  },
  {
   "cell_type": "code",
   "execution_count": 13,
   "id": "3aa155f5",
   "metadata": {},
   "outputs": [
    {
     "name": "stdout",
     "output_type": "stream",
     "text": [
      "Multiplication result 84\n"
     ]
    }
   ],
   "source": [
    "Multiplication = 14 * 6\n",
    "print(\"Multiplication result\", Multiplication)"
   ]
  },
  {
   "cell_type": "code",
   "execution_count": 14,
   "id": "2f1ec051",
   "metadata": {},
   "outputs": [],
   "source": [
    "Division = 81/9\n",
    "result_exp = 3 ** 5\n",
    "result_mod = 24 % 2"
   ]
  },
  {
   "cell_type": "code",
   "execution_count": 21,
   "id": "3f45860d",
   "metadata": {},
   "outputs": [
    {
     "name": "stdout",
     "output_type": "stream",
     "text": [
      "Division result 9.0\n",
      "Exponentiation result: 243\n",
      "Modulus result: 0\n"
     ]
    }
   ],
   "source": [
    "print(\"Division result\", Division)\n",
    "print(\"Exponentiation result:\", result_exp)\n",
    "print(\"Modulus result:\", result_mod)"
   ]
  },
  {
   "cell_type": "code",
   "execution_count": 22,
   "id": "9edd86df",
   "metadata": {},
   "outputs": [],
   "source": [
    "#Write Example for assignment operators (except: = & +=)"
   ]
  },
  {
   "cell_type": "code",
   "execution_count": 23,
   "id": "55ee3fb2",
   "metadata": {},
   "outputs": [
    {
     "name": "stdout",
     "output_type": "stream",
     "text": [
      "After subtraction assignment: 7\n"
     ]
    }
   ],
   "source": [
    "x = 10\n",
    "x -= 3\n",
    "print(\"After subtraction assignment:\", x)"
   ]
  },
  {
   "cell_type": "code",
   "execution_count": 24,
   "id": "a3047949",
   "metadata": {},
   "outputs": [
    {
     "name": "stdout",
     "output_type": "stream",
     "text": [
      "After multiplication assignment: 10\n"
     ]
    }
   ],
   "source": [
    "y = 5\n",
    "y *= 2\n",
    "print(\"After multiplication assignment:\", y)"
   ]
  },
  {
   "cell_type": "code",
   "execution_count": 25,
   "id": "5e31caa6",
   "metadata": {},
   "outputs": [
    {
     "name": "stdout",
     "output_type": "stream",
     "text": [
      "After division assignment: 5.0\n"
     ]
    }
   ],
   "source": [
    "z = 20\n",
    "z /= 4\n",
    "print(\"After division assignment:\", z)"
   ]
  },
  {
   "cell_type": "code",
   "execution_count": null,
   "id": "59ab7f9f",
   "metadata": {},
   "outputs": [],
   "source": []
  },
  {
   "cell_type": "code",
   "execution_count": null,
   "id": "c429ad51",
   "metadata": {},
   "outputs": [],
   "source": []
  }
 ],
 "metadata": {
  "kernelspec": {
   "display_name": "Python 3 (ipykernel)",
   "language": "python",
   "name": "python3"
  },
  "language_info": {
   "codemirror_mode": {
    "name": "ipython",
    "version": 3
   },
   "file_extension": ".py",
   "mimetype": "text/x-python",
   "name": "python",
   "nbconvert_exporter": "python",
   "pygments_lexer": "ipython3",
   "version": "3.11.0"
  }
 },
 "nbformat": 4,
 "nbformat_minor": 5
}
