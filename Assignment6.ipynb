{
 "cells": [
  {
   "cell_type": "code",
   "execution_count": 1,
   "id": "32fd6654",
   "metadata": {},
   "outputs": [],
   "source": [
    " # cow bull prog as a func"
   ]
  },
  {
   "cell_type": "code",
   "execution_count": 6,
   "id": "8e97b13a",
   "metadata": {},
   "outputs": [
    {
     "name": "stdout",
     "output_type": "stream",
     "text": [
      "(4, 0)\n"
     ]
    }
   ],
   "source": [
    "def cow_bull(secret, guess):\n",
    "    cow = sum(s == g for s, g in zip(secret, guess))\n",
    "    bull = sum(g in secret for g in guess) - cow\n",
    "    return cow, bull\n",
    "\n",
    "# Example usage\n",
    "secret = \"hello\"\n",
    "guess = \"hallo\"\n",
    "print(cow_bull(secret, guess))"
   ]
  },
  {
   "cell_type": "code",
   "execution_count": 7,
   "id": "3b24c372",
   "metadata": {},
   "outputs": [
    {
     "name": "stdout",
     "output_type": "stream",
     "text": [
      "True\n",
      "False\n"
     ]
    }
   ],
   "source": [
    "def is_palindrome(s):\n",
    "    return s == s[::-1]\n",
    "\n",
    "# Example usage\n",
    "print(is_palindrome(\"radar\"))\n",
    "print(is_palindrome(\"hello\"))"
   ]
  },
  {
   "cell_type": "code",
   "execution_count": 8,
   "id": "89ad3b6e",
   "metadata": {},
   "outputs": [
    {
     "name": "stdout",
     "output_type": "stream",
     "text": [
      "[0, 1, 1, 2, 3, 5, 8, 13, 21, 34]\n"
     ]
    }
   ],
   "source": [
    "def fibonacci(n):\n",
    "    fibo = [0, 1]\n",
    "    while len(fibo) < n:\n",
    "        fibo.append(fibo[-1] + fibo[-2])\n",
    "    return fibo[:n]\n",
    "\n",
    "# Example usage\n",
    "print(fibonacci(10))"
   ]
  },
  {
   "cell_type": "code",
   "execution_count": 9,
   "id": "d73bb665",
   "metadata": {},
   "outputs": [
    {
     "name": "stdout",
     "output_type": "stream",
     "text": [
      "[0, 1, 2, 3, 4]\n",
      "[2, 4, 6]\n"
     ]
    }
   ],
   "source": [
    "def my_range(start, stop=None, step=1):\n",
    "    if stop is None:\n",
    "        stop = start\n",
    "        start = 0\n",
    "    return list(range(start, stop, step))\n",
    "\n",
    "# Example usage\n",
    "print(my_range(5))\n",
    "print(my_range(2, 8, 2))"
   ]
  },
  {
   "cell_type": "code",
   "execution_count": null,
   "id": "74dc7833",
   "metadata": {},
   "outputs": [],
   "source": []
  }
 ],
 "metadata": {
  "kernelspec": {
   "display_name": "Python 3 (ipykernel)",
   "language": "python",
   "name": "python3"
  },
  "language_info": {
   "codemirror_mode": {
    "name": "ipython",
    "version": 3
   },
   "file_extension": ".py",
   "mimetype": "text/x-python",
   "name": "python",
   "nbconvert_exporter": "python",
   "pygments_lexer": "ipython3",
   "version": "3.11.0"
  }
 },
 "nbformat": 4,
 "nbformat_minor": 5
}
